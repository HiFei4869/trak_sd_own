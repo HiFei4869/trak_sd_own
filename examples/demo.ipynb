{
 "cells": [
  {
   "cell_type": "code",
   "execution_count": 1,
   "id": "ba7b3d50-8aee-4542-a953-20dfafcbf517",
   "metadata": {},
   "outputs": [
    {
     "name": "stderr",
     "output_type": "stream",
     "text": [
      "/mnt/xfs/home/krisgrg/conda_envs/h100/lib/python3.9/site-packages/torchvision/io/image.py:13: UserWarning: Failed to load image Python extension: '/mnt/xfs/home/krisgrg/conda_envs/h100/lib/python3.9/site-packages/torchvision/image.so: undefined symbol: _ZN3c107WarningC1ENS_7variantIJNS0_11UserWarningENS0_18DeprecationWarningEEEERKNS_14SourceLocationENSt7__cxx1112basic_stringIcSt11char_traitsIcESaIcEEEb'If you don't plan on using image functionality from `torchvision.io`, you can ignore this warning. Otherwise, there might be something wrong with your environment. Did you have `libjpeg` or `libpng` installed before building `torchvision` from source?\n",
      "  warn(\n"
     ]
    }
   ],
   "source": [
    "import torch\n",
    "from trak import TRAKer\n",
    "from tqdm import tqdm\n",
    "from pathlib import Path\n",
    "from matplotlib import pyplot as plt\n",
    "from diffusion_trak import DiffusionModelOutput\n",
    "from diffusion_trak import DiffusionGradientComputer\n",
    "from diffusers import DDPMScheduler\n",
    "\n",
    "# local import\n",
    "from utils import get_cifar_model, get_cifar_dataloader"
   ]
  },
  {
   "cell_type": "markdown",
   "id": "240cbf6a-4d9b-466a-9138-b9febe7f8743",
   "metadata": {},
   "source": [
    "# CIFAR-10 unconditional model"
   ]
  },
  {
   "cell_type": "code",
   "execution_count": 2,
   "id": "46ecbf9a-3a06-4ddf-869d-90c24a4654f8",
   "metadata": {},
   "outputs": [],
   "source": [
    "model = get_cifar_model(sample_size=32, n_channels=3)\n",
    "model.eval();"
   ]
  },
  {
   "cell_type": "code",
   "execution_count": 8,
   "id": "b5af2a83-1b04-468c-a1af-06a662bda71a",
   "metadata": {},
   "outputs": [],
   "source": [
    "def load_checkpoints_from_dir(ckpt_dir) -> list:\n",
    "    ckpts = []\n",
    "    ckpt_dir = Path(ckpt_dir)\n",
    "    for ckpt_path in sorted(list(ckpt_dir.iterdir())):\n",
    "        ckpts.append(torch.load(ckpt_path))\n",
    "    return ckpts\n"
   ]
  },
  {
   "cell_type": "code",
   "execution_count": 19,
   "id": "51631619-e0e5-415a-a82a-9fd73eb45b78",
   "metadata": {},
   "outputs": [
    {
     "data": {
      "text/plain": [
       "<All keys matched successfully>"
      ]
     },
     "execution_count": 19,
     "metadata": {},
     "output_type": "execute_result"
    }
   ],
   "source": [
    "checkpoints = load_checkpoints_from_dir('../checkpoints')\n",
    "model.load_state_dict(checkpoints[0])"
   ]
  },
  {
   "cell_type": "code",
   "execution_count": 20,
   "id": "d477acb4-ff38-4fda-af19-707d84a66037",
   "metadata": {},
   "outputs": [],
   "source": [
    "loader_train = get_cifar_dataloader(batch_size=16, split='train')"
   ]
  },
  {
   "cell_type": "markdown",
   "id": "9a57b1c2-0aaf-45a5-aba2-41624c0d5d78",
   "metadata": {},
   "source": [
    "## Generate a sample trajectory with DDPM"
   ]
  },
  {
   "cell_type": "markdown",
   "id": "f26f1425-de8e-4ea1-a500-612c08d77ca0",
   "metadata": {},
   "source": [
    "We'll now generate a sample $x_0$ by running the DDPM sampler for a thousand iterations, starting from $x_{1000}$ and iteratively denoising the latent image."
   ]
  },
  {
   "cell_type": "code",
   "execution_count": 21,
   "id": "1d99658c-4ab4-4319-86fc-324337760d14",
   "metadata": {},
   "outputs": [
    {
     "name": "stderr",
     "output_type": "stream",
     "text": [
      "100%|██████████| 1000/1000 [00:11<00:00, 86.95it/s]\n"
     ]
    }
   ],
   "source": [
    "# fixing the seed for reproducibility\n",
    "torch.manual_seed(0)\n",
    "torch.cuda.manual_seed(0)\n",
    "\n",
    "# drawing the random sample x_1000\n",
    "input = torch.randn((1, 3, 32, 32)).to(\"cuda\")\n",
    "noise_scheduler = DDPMScheduler()\n",
    "\n",
    "trajectory = []\n",
    "\n",
    "for t in tqdm(noise_scheduler.timesteps):\n",
    "    with torch.no_grad():\n",
    "        noisy_residual = model(input, t).sample\n",
    "    d = noise_scheduler.step(noisy_residual, t, input)\n",
    "    previous_noisy_sample = d.prev_sample\n",
    "    x_0_hat = d.pred_original_sample\n",
    "    input = previous_noisy_sample\n",
    "    trajectory.append(x_0_hat.detach().clone().cpu())\n",
    "\n",
    "# flip the order so trajectory[0] gives us the final image\n",
    "trajectory = torch.stack(trajectory[::-1])"
   ]
  },
  {
   "cell_type": "code",
   "execution_count": 29,
   "id": "9364d818-4e00-4e71-8afa-37e9e5d1ffe5",
   "metadata": {},
   "outputs": [
    {
     "data": {
      "image/png": "[encoded data removed]",
      "text/plain": [
       "<Figure size 640x480 with 1 Axes>"
      ]
     },
     "metadata": {},
     "output_type": "display_data"
    }
   ],
   "source": [
    "plt.imshow((trajectory[0, 0].permute([1, 2, 0]) + 1) / 2); plt.axis('off'); plt.show()"
   ]
  },
  {
   "cell_type": "markdown",
   "id": "81bb32c9-4dfa-4a78-8e07-b22695228aee",
   "metadata": {},
   "source": [
    "This is effectively the same as running the `DDPMPipeline`. We do the above in order to get access to the full trajectory of intermediate latents $x_t$, in addition to the final image $x_0$"
   ]
  },
  {
   "cell_type": "markdown",
   "id": "11d3e4d2-5726-428a-bdca-e9f83b449afb",
   "metadata": {},
   "source": [
    "## Attribute the sample trajectory at a timestep of choice"
   ]
  },
  {
   "cell_type": "markdown",
   "id": "f57d74de-035e-4c99-ae46-3a307fc396d3",
   "metadata": {},
   "source": [
    "Here we choose to set the timestep $t=300$. Thus, we feed the latent $x_{300}$ to our `TRAKer` instance."
   ]
  },
  {
   "cell_type": "code",
   "execution_count": 6,
   "id": "6d886ca6-9fd4-4d8b-9af0-f3049670f4ab",
   "metadata": {},
   "outputs": [
    {
     "name": "stderr",
     "output_type": "stream",
     "text": [
      "WARNING:TRAK:TRAK is still in an early 0.x.x version.\n",
      "                             Report any issues at https://github.com/MadryLab/trak/issues\n",
      "ERROR:TRAK:Could not use CudaProjector.\n",
      "Reason: /mnt/xfs/home/krisgrg/conda_envs/h100/lib/python3.9/site-packages/fast_jl.cpython-39-x86_64-linux-gnu.so: undefined symbol: _ZN3c105ErrorC2ENS_14SourceLocationENSt7__cxx1112basic_stringIcSt11char_traitsIcESaIcEEE\n",
      "ERROR:TRAK:Defaulting to BasicProjector.\n",
      "INFO:STORE:Existing model IDs in /mnt/xfs/home/krisgrg/projects/attributing-diffusion-models/trak_results: [0]\n",
      "INFO:STORE:Model IDs that have been finalized: [0]\n",
      "INFO:STORE:Existing TRAK scores:\n",
      "INFO:STORE:debug: /mnt/xfs/home/krisgrg/projects/attributing-diffusion-models/trak_results/scores/debug.mmap\n"
     ]
    }
   ],
   "source": [
    "task = DiffusionModelOutput()\n",
    "\n",
    "traker = TRAKer(model=model,\n",
    "                task=task,\n",
    "                gradient_computer=DiffusionGradientComputer,\n",
    "                proj_dim=2048,\n",
    "                train_set_size=len(loader_train.dataset),\n",
    "                save_dir='../trak_results/',\n",
    "                device='cuda')"
   ]
  },
  {
   "cell_type": "code",
   "execution_count": 7,
   "id": "1ee44cda-f923-452b-a0e0-78be98524e61",
   "metadata": {},
   "outputs": [],
   "source": [
    "exp_name = \"debug\"\n",
    "num_resamplings = 10"
   ]
  },
  {
   "cell_type": "code",
   "execution_count": 11,
   "id": "917d6d9d-a2b2-45c9-beb8-30bc50be8e56",
   "metadata": {},
   "outputs": [
    {
     "name": "stderr",
     "output_type": "stream",
     "text": [
      "100%|██████████| 1/1 [00:01<00:00,  1.73s/it]\n",
      "Finalizing scores for all model IDs..: 100%|██████████| 1/1 [00:00<00:00,  1.90it/s]\n",
      "INFO:STORE:Saving scores in /mnt/xfs/home/krisgrg/projects/attributing-diffusion-models/trak_results/scores/debug.mmap\n"
     ]
    }
   ],
   "source": [
    "timestep = torch.tensor(300)\n",
    "\n",
    "bs = trajectory.shape[1]\n",
    "\n",
    "for model_id in tqdm(range(len(checkpoints))):\n",
    "    ckpt = checkpoints[model_id]\n",
    "    traker.start_scoring_checkpoint(exp_name=exp_name,\n",
    "                                    checkpoint=ckpt,\n",
    "                                    model_id=model_id,\n",
    "                                    num_targets=bs)\n",
    "\n",
    "    # images, labels, tstep, n_iters\n",
    "    batch = [trajectory.permute([1, 0, 2, 3, 4]),\n",
    "             torch.zeros(bs),\n",
    "             timestep,\n",
    "             num_resamplings\n",
    "            ]\n",
    "    traker.score(batch=batch, num_samples=bs)\n",
    "\n",
    "scores = traker.finalize_scores(exp_name=exp_name, allow_skip=True)"
   ]
  },
  {
   "cell_type": "code",
   "execution_count": 12,
   "id": "be822b05-a413-46ab-8b46-1df79fbec9d5",
   "metadata": {},
   "outputs": [
    {
     "data": {
      "text/plain": [
       "memmap([[ 1.0085e-04],\n",
       "        [ 2.3484e-05],\n",
       "        [-2.3580e-04],\n",
       "        ...,\n",
       "        [-4.4203e-04],\n",
       "        [-9.6917e-05],\n",
       "        [ 2.4462e-04]], dtype=float16)"
      ]
     },
     "execution_count": 12,
     "metadata": {},
     "output_type": "execute_result"
    }
   ],
   "source": [
    "scores"
   ]
  },
  {
   "cell_type": "markdown",
   "id": "7786e531-dea4-4eb8-8292-56dd464abfd3",
   "metadata": {},
   "source": [
    "# Analyze scores"
   ]
  },
  {
   "cell_type": "code",
   "execution_count": 43,
   "id": "f3380b0e-d9db-45c5-9819-6ffdcc7d57d8",
   "metadata": {},
   "outputs": [],
   "source": [
    "top_inds = torch.tensor(scores).reshape(-1).argsort()[-5:]"
   ]
  },
  {
   "cell_type": "code",
   "execution_count": 46,
   "id": "cc72573c-767f-491f-9c62-3c2e59d85358",
   "metadata": {},
   "outputs": [
    {
     "data": {
      "image/png": "[encoded data removed]",
      "text/plain": [
       "<Figure size 640x480 with 1 Axes>"
      ]
     },
     "metadata": {},
     "output_type": "display_data"
    },
    {
     "data": {
      "image/png": "[encoded data removed]",
      "text/plain": [
       "<Figure size 640x480 with 1 Axes>"
      ]
     },
     "metadata": {},
     "output_type": "display_data"
    },
    {
     "data": {
      "image/png": "[encoded data removed]",
      "text/plain": [
       "<Figure size 640x480 with 1 Axes>"
      ]
     },
     "metadata": {},
     "output_type": "display_data"
    },
    {
     "data": {
      "image/png": "[encoded data removed]",
      "text/plain": [
       "<Figure size 640x480 with 1 Axes>"
      ]
     },
     "metadata": {},
     "output_type": "display_data"
    },
    {
     "data": {
      "image/png": "[encoded data removed]",
      "text/plain": [
       "<Figure size 640x480 with 1 Axes>"
      ]
     },
     "metadata": {},
     "output_type": "display_data"
    }
   ],
   "source": [
    "for idx in top_inds:\n",
    "    plt.imshow((loader_train.dataset[idx.item()]['images'].permute([1, 2, 0]) + 1) / 2); plt.axis('off'); plt.show()"
   ]
  },
  {
   "cell_type": "code",
   "execution_count": null,
   "id": "b0bd0c2f-7922-4d40-b826-19b680673b5b",
   "metadata": {},
   "outputs": [],
   "source": []
  }
 ],
 "metadata": {
  "kernelspec": {
   "display_name": "Python 3 (ipykernel)",
   "language": "python",
   "name": "python3"
  },
  "language_info": {
   "codemirror_mode": {
    "name": "ipython",
    "version": 3
   },
   "file_extension": ".py",
   "mimetype": "text/x-python",
   "name": "python",
   "nbconvert_exporter": "python",
   "pygments_lexer": "ipython3",
   "version": "3.9.17"
  }
 },
 "nbformat": 4,
 "nbformat_minor": 5
}
